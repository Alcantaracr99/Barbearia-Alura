{
  "nbformat": 4,
  "nbformat_minor": 0,
  "metadata": {
    "colab": {
      "provenance": [],
      "authorship_tag": "ABX9TyMobQAlr26fAh7st8ft30qa",
      "include_colab_link": true
    },
    "kernelspec": {
      "name": "python3",
      "display_name": "Python 3"
    },
    "language_info": {
      "name": "python"
    }
  },
  "cells": [
    {
      "cell_type": "markdown",
      "metadata": {
        "id": "view-in-github",
        "colab_type": "text"
      },
      "source": [
        "<a href=\"https://colab.research.google.com/github/Alcantaracr99/Barbearia-Alura/blob/master/Untitled0.ipynb\" target=\"_parent\"><img src=\"https://colab.research.google.com/assets/colab-badge.svg\" alt=\"Open In Colab\"/></a>"
      ]
    },
    {
      "cell_type": "code",
      "execution_count": 1,
      "metadata": {
        "id": "3nqHzD-Kj-BV",
        "colab": {
          "base_uri": "https://localhost:8080/"
        },
        "outputId": "a99ed0ed-5d7d-4d90-9c91-2d9e973953e4"
      },
      "outputs": [
        {
          "output_type": "stream",
          "name": "stdout",
          "text": [
            "Digite um valor: 5\n",
            "Esse número é ímpar\n"
          ]
        }
      ],
      "source": [
        "numero = eval(input('Digite um valor: '))\n",
        "if(numero % 2 == 0):\n",
        "  resultado = 'Esse número é par'\n",
        "else:\n",
        "    resultado = 'Esse número é ímpar'\n",
        "    print(resultado)"
      ]
    }
  ]
}